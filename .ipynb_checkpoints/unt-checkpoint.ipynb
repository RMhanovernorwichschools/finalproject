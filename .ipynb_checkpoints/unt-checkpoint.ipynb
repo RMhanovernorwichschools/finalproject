{
 "cells": [
  {
   "cell_type": "code",
   "execution_count": 16,
   "metadata": {},
   "outputs": [],
   "source": [
    "import pandas as pd\n",
    "df=pd.read_stata(\"https://github.com/RMhanovernorwichschools/finalproject/blob/master/FF_wave6_2019.dta?raw=true\")"
   ]
  },
  {
   "cell_type": "code",
   "execution_count": 11,
   "metadata": {},
   "outputs": [],
   "source": [
    "#because the names are unclear, I'll use the codebook to rename columns\n",
    "df.rename(columns={'idnum':'ID',\n",
    "                   'cp6yloth':'liv_wth',\n",
    "                   'cp6age':'cg_age',\n",
    "                   'cp6adult':'num_fam_adults',\n",
    "                   'cp6kids':'num_fam_kids',\n",
    "                   'cp6pmarb':'biopar_marriedto_cg',\n",
    "                   'cp6pmarp':'else_marriedto_cg',\n",
    "                   'cp6hhinc':'hh_income',\n",
    "                   'cp6hhsize':'num_fam_total',\n",
    "                   'cp6povco':'poverty', #if >1, then above poverty line. if 0 or less, at or below pov line\n",
    "                   'cp6edu':'cg_edu',\n",
    "                   'cp6conf1':'cg_ID'}, \n",
    "                 inplace=True)\n",
    "#Additionally, some information is more qualitative than numerical, and will be removed\n",
    "df=df.drop(['cp6intmon', 'cp6tele', 'cp6intyr', 'cp6natsm', 'cp6samp', 'h6natwtx_rep1', 'h6natwtx_rep2',\n",
    "       'h6natwtx_rep3', 'h6natwtx_rep4','h6natwtx_rep5', 'h6natwtx_rep6', 'h6natwtx_rep7', 'h6natwtx_rep8',\n",
    "       'h6natwtx_rep9', 'h6natwtx_rep10', 'cp6pint', 'cp6source', 'cp6citsm', 'cp6ylpcg', 'cp6pcgrel',\n",
    "       'cp6span', 'cp6yagey', 'cp6yagem', 'cp6mrelf', 'cp6prelb', 'cp6pcohb', 'cp6pcohp', 'cp6hhimp',\n",
    "       'cp6povca', 'cp6w9intyr', 'cp6w9intmon', 'cp6drop', 'cp6conf2', 'cp6conf3'], axis=1)\n",
    "#cg refers to \"caregiver\"\n",
    "#biopar refers to biological parents\n",
    "#hh means household\n",
    "\n",
    "df=df[df.liv_wth!='-9 Not in wave']\n",
    "psychqs=['p6b' + str(x+35) for x in range(36)]\n",
    "schoolqs=['p6c'+str(x+9) for x in range(18)]\n",
    "non_res_parent_qs=['p6f3', 'p6f7', 'p6f8', 'p6f22', 'p6f31', 'p6f32', 'p6f35', 'p6g2']\n",
    "kid_school_qs=['k6b1'+x for x in ['a','b','c','d']]+['k6b4'+x for x in ['a','b','c','d','e','f','g']]+['k6b'+str(x+8) for x in range(5)]+['k6b'+str(x+14) for x in range(5)]+['k6b22d']+['k6b31'+x for x in ['a','b','c','d']]+['k6b32'+x for x in ['a','b','c','d','e','f']]\n",
    "kid_atmos_qs=[]"
   ]
  },
  {
   "cell_type": "markdown",
   "metadata": {},
   "source": [
    "NOTE: it's interesting that k6b31 b and c are correlated (students who have trouble w/ teachers also do w/ fellow students)"
   ]
  }
 ],
 "metadata": {
  "kernelspec": {
   "display_name": "Python 3",
   "language": "python",
   "name": "python3"
  },
  "language_info": {
   "codemirror_mode": {
    "name": "ipython",
    "version": 3
   },
   "file_extension": ".py",
   "mimetype": "text/x-python",
   "name": "python",
   "nbconvert_exporter": "python",
   "pygments_lexer": "ipython3",
   "version": "3.5.2"
  }
 },
 "nbformat": 4,
 "nbformat_minor": 2
}
