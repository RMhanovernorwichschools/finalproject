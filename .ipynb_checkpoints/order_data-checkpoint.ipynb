{
 "cells": [
  {
   "cell_type": "code",
   "execution_count": 109,
   "metadata": {},
   "outputs": [],
   "source": [
    "import pandas as pd"
   ]
  },
  {
   "cell_type": "code",
   "execution_count": 110,
   "metadata": {},
   "outputs": [],
   "source": [
    "df=pd.read_stata(\"https://github.com/RMhanovernorwichschools/finalproject/blob/master/FF_wave6_2019.dta?raw=true\")"
   ]
  },
  {
   "cell_type": "code",
   "execution_count": 117,
   "metadata": {},
   "outputs": [],
   "source": [
    "#because the names are unclear, I'll use the codebook to rename columns\n",
    "df.rename(columns={'idnum':'ID',\n",
    "                   'cp6tele':'telephone_intvw',\n",
    "                   'cp6yloth':'liv_wth',\n",
    "                   'cp6age':'cg_age',\n",
    "                   'cp6adult':'num_fam_adults',\n",
    "                   'cp6kids':'num_fam_kids',\n",
    "                   'cp6pmarb':'biopar_marriedto_cg',\n",
    "                   'cp6pmarp':'else_marriedto_cg',\n",
    "                   'cp6hhinc':'hh_income',\n",
    "                   'cp6hhsize':'num_fam_total',\n",
    "                   'cp6povco':'poverty', #if >1, then above poverty line. if 0 or less, at or below pov line\n",
    "                   'cp6edu':'cg_edu',\n",
    "                   'cp6conf1':'cg_ID'}, \n",
    "                 inplace=True)\n",
    "#Additionally, some information is more qualitative than numerical, and will be removed\n",
    "df=df.drop(['cp6intmon', 'cp6intyr', 'cp6natsm', 'h6natwtx_rep1', 'h6natwtx_rep2',\n",
    "       'h6natwtx_rep3', 'h6natwtx_rep4','h6natwtx_rep5', 'h6natwtx_rep6', 'h6natwtx_rep7', 'h6natwtx_rep8',\n",
    "       'h6natwtx_rep9', 'h6natwtx_rep10', 'cp6pint', 'cp6source', 'cp6citsm', 'cp6ylpcg', 'cp6pcgrel',\n",
    "       'cp6span', 'cp6yagey', 'cp6yagem', 'cp6mrelf', 'cp6prelb', 'cp6pcohb', 'cp6pcohp', 'cp6hhimp',\n",
    "       'cp6povca', 'cp6w9intyr', 'cp6w9intmon', 'cp6drop', 'cp6conf2', 'cp6conf3'], axis=1)\n",
    "#cg refers to \"caregiver\"\n",
    "#biopar refers to biological parents\n",
    "#hh means household"
   ]
  },
  {
   "cell_type": "code",
   "execution_count": 118,
   "metadata": {},
   "outputs": [
    {
     "ename": "AttributeError",
     "evalue": "'DataFrame' object has no attribute 'cp6w9intmon'",
     "output_type": "error",
     "traceback": [
      "\u001b[0;31m---------------------------------------------------------------------------\u001b[0m",
      "\u001b[0;31mAttributeError\u001b[0m                            Traceback (most recent call last)",
      "\u001b[0;32m<ipython-input-118-548f2716ce47>\u001b[0m in \u001b[0;36m<module>\u001b[0;34m()\u001b[0m\n\u001b[0;32m----> 1\u001b[0;31m \u001b[0mdf\u001b[0m\u001b[0;34m.\u001b[0m\u001b[0mcp6w9intmon\u001b[0m\u001b[0;34m\u001b[0m\u001b[0m\n\u001b[0m",
      "\u001b[0;32m/usr/local/lib/python3.5/dist-packages/pandas/core/generic.py\u001b[0m in \u001b[0;36m__getattr__\u001b[0;34m(self, name)\u001b[0m\n\u001b[1;32m   2968\u001b[0m             \u001b[0;32mif\u001b[0m \u001b[0mname\u001b[0m \u001b[0;32min\u001b[0m \u001b[0mself\u001b[0m\u001b[0;34m.\u001b[0m\u001b[0m_info_axis\u001b[0m\u001b[0;34m:\u001b[0m\u001b[0;34m\u001b[0m\u001b[0m\n\u001b[1;32m   2969\u001b[0m                 \u001b[0;32mreturn\u001b[0m \u001b[0mself\u001b[0m\u001b[0;34m[\u001b[0m\u001b[0mname\u001b[0m\u001b[0;34m]\u001b[0m\u001b[0;34m\u001b[0m\u001b[0m\n\u001b[0;32m-> 2970\u001b[0;31m             \u001b[0;32mreturn\u001b[0m \u001b[0mobject\u001b[0m\u001b[0;34m.\u001b[0m\u001b[0m__getattribute__\u001b[0m\u001b[0;34m(\u001b[0m\u001b[0mself\u001b[0m\u001b[0;34m,\u001b[0m \u001b[0mname\u001b[0m\u001b[0;34m)\u001b[0m\u001b[0;34m\u001b[0m\u001b[0m\n\u001b[0m\u001b[1;32m   2971\u001b[0m \u001b[0;34m\u001b[0m\u001b[0m\n\u001b[1;32m   2972\u001b[0m     \u001b[0;32mdef\u001b[0m \u001b[0m__setattr__\u001b[0m\u001b[0;34m(\u001b[0m\u001b[0mself\u001b[0m\u001b[0;34m,\u001b[0m \u001b[0mname\u001b[0m\u001b[0;34m,\u001b[0m \u001b[0mvalue\u001b[0m\u001b[0;34m)\u001b[0m\u001b[0;34m:\u001b[0m\u001b[0;34m\u001b[0m\u001b[0m\n",
      "\u001b[0;31mAttributeError\u001b[0m: 'DataFrame' object has no attribute 'cp6w9intmon'"
     ]
    }
   ],
   "source": [
    "df_"
   ]
  },
  {
   "cell_type": "code",
   "execution_count": null,
   "metadata": {},
   "outputs": [],
   "source": []
  }
 ],
 "metadata": {
  "kernelspec": {
   "display_name": "Python 3",
   "language": "python",
   "name": "python3"
  },
  "language_info": {
   "codemirror_mode": {
    "name": "ipython",
    "version": 3
   },
   "file_extension": ".py",
   "mimetype": "text/x-python",
   "name": "python",
   "nbconvert_exporter": "python",
   "pygments_lexer": "ipython3",
   "version": "3.5.2"
  }
 },
 "nbformat": 4,
 "nbformat_minor": 2
}
