{
 "cells": [
  {
   "cell_type": "code",
   "execution_count": 1,
   "metadata": {},
   "outputs": [],
   "source": [
    "import pandas as pd\n",
    "import numpy\n",
    "import matplotlib.pyplot as plt\n",
    "df=pd.read_stata(\"https://github.com/RMhanovernorwichschools/finalproject/blob/master/FF_wave6_2019.dta?raw=true\")\n",
    "\n",
    "def corr (x, y):\n",
    "    print(x+' and '+y+' are corr by '+str(df_sub[x+'_int'].corr(df_sub[y+'_int'])))"
   ]
  },
  {
   "cell_type": "code",
   "execution_count": 2,
   "metadata": {},
   "outputs": [],
   "source": [
    "df_sub = df[df.cp6yloth!='-9 Not in wave']\n",
    "df_sub = df[df.ck6yagey!='-9 Not in wave']\n",
    "\n",
    "for x in ['p6citywt_rep1', 'p6citywt_rep2', 'p6citywt_rep3', 'p6citywt_rep4', 'p6citywt_rep5']:\n",
    "    df_sub=df_sub.drop([x], axis=1)"
   ]
  },
  {
   "cell_type": "code",
   "execution_count": 3,
   "metadata": {},
   "outputs": [],
   "source": [
    "for x in list(df_sub.keys()):\n",
    "    if (x[0]+x[1])=='cp':\n",
    "        df_sub=df_sub.drop([x], axis=1)\n",
    "\n",
    "reps=list(df_sub.keys())\n",
    "\n",
    "for x in reps:\n",
    "    mode=df_sub[x].mode()\n",
    "    if type(mode)!=str:\n",
    "        reps.remove(x)\n",
    "    elif len(mode)>1:\n",
    "        if (mode=='-6 Skip').all() or (mode=='-3 Missing').all():\n",
    "            df_sub = df_sub.drop([x], axis=1)\n",
    "    elif (mode=='-6 Skip').bool() or (mode=='-3 Missing').bool():\n",
    "        df_sub = df_sub.drop([x], axis=1)\n",
    "    \n",
    "reps=list(df_sub.keys())\n",
    "reps.remove('idnum')"
   ]
  },
  {
   "cell_type": "code",
   "execution_count": null,
   "metadata": {},
   "outputs": [
    {
     "name": "stdout",
     "output_type": "stream",
     "text": [
      "p6a1\n",
      "p6a2_1\n",
      "p6a2_91\n",
      "p6a2_101\n",
      "p6b1\n",
      "p6b9_101\n",
      "p6b11\n",
      "p6b12_101\n",
      "p6b21\n",
      "p6b27_1\n",
      "p6b27_11\n",
      "p6b31\n",
      "p6b33_1\n",
      "p6b41\n",
      "p6b51\n",
      "p6b61\n",
      "p6b71\n",
      "p6c1\n",
      "p6c11\n",
      "p6c21\n",
      "p6d1\n",
      "p6d11\n",
      "p6d21\n",
      "p6d31\n",
      "p6e1\n",
      "p6e13a1\n"
     ]
    }
   ],
   "source": [
    "reps1=reps[:400]\n",
    "reps2=reps[400:800]\n",
    "reps3=reps[800:1200]\n",
    "reps4=reps[1200:]\n",
    "\n",
    "for x in reps1:\n",
    "    new=[]\n",
    "    for b in df_sub['idnum']:\n",
    "        num=int(b)-1\n",
    "        a=df_sub[x][num]\n",
    "        if type(a)==numpy.float64 or type(a)==numpy.int64:\n",
    "            new.append(a)\n",
    "        elif a[0]=='-' or a[0]==' ':\n",
    "            new.append(None)\n",
    "        else:\n",
    "            new.append(float(a[0]))\n",
    "    if x[-1]=='1':\n",
    "        print(x)\n",
    "    df_sub[x+'_int']= new\n",
    "    df_sub = df_sub.drop([x], axis=1)\n",
    "print('Done!')"
   ]
  },
  {
   "cell_type": "code",
   "execution_count": null,
   "metadata": {},
   "outputs": [],
   "source": [
    "cont = True\n",
    "while cont == True:\n",
    "    checking=0\n",
    "    for x in reps1:\n",
    "        mode=df_sub[x+'_int'].mode()\n",
    "        if len(mode)>1:\n",
    "            if (mode==None).all():\n",
    "                df_sub = df_sub.drop([x+'_int'], axis=1)\n",
    "                checking+=1\n",
    "        elif (mode==None).bool():\n",
    "            df_sub = df_sub.drop([x+'_int'], axis=1)\n",
    "            checking+=1\n",
    "    if checking==0:\n",
    "        cont=False"
   ]
  },
  {
   "cell_type": "code",
   "execution_count": null,
   "metadata": {},
   "outputs": [],
   "source": [
    "for x in reps1:\n",
    "    for y in reps1:\n",
    "        if abs(df_sub[x+'_int'].corr(df_sub[y+'_int'], min_periods=75))>0.5 and x[2]!=y[2]:\n",
    "            print(x+' and '+y+' are corr by '+str(df_sub[x+'_int'].corr(df_sub[y+'_int'])))"
   ]
  },
  {
   "cell_type": "markdown",
   "metadata": {},
   "source": [
    "Interesting finding: more likely to have spoken to teacher about medical issues if issues are impersonal (Not mental)\n",
    "also want to check out g6 to f29"
   ]
  },
  {
   "cell_type": "code",
   "execution_count": null,
   "metadata": {},
   "outputs": [],
   "source": [
    "savers=[x+'_int' for x in reps1]\n",
    "\n",
    "df_p1=df_sub['idnum'+savers]\n",
    "df_p1.to_csv('FF_Processed_Data_a.csv')"
   ]
  }
 ],
 "metadata": {
  "kernelspec": {
   "display_name": "Python 3",
   "language": "python",
   "name": "python3"
  },
  "language_info": {
   "codemirror_mode": {
    "name": "ipython",
    "version": 3
   },
   "file_extension": ".py",
   "mimetype": "text/x-python",
   "name": "python",
   "nbconvert_exporter": "python",
   "pygments_lexer": "ipython3",
   "version": "3.5.2"
  }
 },
 "nbformat": 4,
 "nbformat_minor": 2
}
