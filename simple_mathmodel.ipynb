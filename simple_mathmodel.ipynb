{
 "cells": [
  {
   "cell_type": "markdown",
   "metadata": {},
   "source": [
    "Model to determine chance of youth getting in trouble at school (p6b39) given...\n",
    "- whether or not they feel safe at school (k6b1d)\n",
    "- youth's living arrangements (cp6yloth)\n",
    "- headaches (p6b16)\n",
    "- primary caregiver's education (cp6edu)\n",
    "- days per week they eat with the family (k6c3)\n",
    "\n",
    "also consider predicting closeness to bio parents\n",
    "- father(k6c28)\n",
    "- mother (k6c17)"
   ]
  },
  {
   "cell_type": "code",
   "execution_count": 1,
   "metadata": {},
   "outputs": [
    {
     "name": "stdout",
     "output_type": "stream",
     "text": [
      "pair 1...\n",
      "pair 2...\n",
      "pair 3...\n",
      "almost...\n",
      "Done!\n"
     ]
    }
   ],
   "source": [
    "import pandas as pd\n",
    "import matplotlib.pyplot as plt\n",
    "import numpy as np\n",
    "\n",
    "def corr (x, y):\n",
    "    print(x+' and '+y+' are corr by '+str(df[x+'_int'].corr(df[y+'_int'])))\n",
    "\n",
    "df_1=pd.merge(pd.read_csv(\"FF_Processed_Data_a.csv\"),(pd.read_csv(\"FF_Processed_Data_b.csv\")),on='idnum')\n",
    "print('pair 1...')\n",
    "df_2=pd.merge((pd.read_csv(\"FF_Processed_Data_c.csv\")),(pd.read_csv(\"FF_Processed_Data_d.csv\")),on='idnum')\n",
    "print('pair 2...')\n",
    "df_3=pd.merge(df_1,df_2,on='idnum')\n",
    "print('pair 3...')\n",
    "df_4=pd.merge(df_3,(pd.read_csv(\"FF_Processed_Data_e.csv\")),on='idnum')\n",
    "print('almost...')\n",
    "\n",
    "df=df_4=pd.merge(df_4,(pd.read_csv(\"FF_Processed_Data_addi.csv\")),on='idnum')\n",
    "print('Done!')"
   ]
  },
  {
   "cell_type": "code",
   "execution_count": 24,
   "metadata": {},
   "outputs": [
    {
     "name": "stdout",
     "output_type": "stream",
     "text": [
      "If they strongly agree to feeling safe at school, 11.652542372881358% chance of misbehaving there and 56.28140703517589% closeness to father\n",
      "If they agree to feeling safe at school, 13.571428571428568% chance of misbehaving there and 53.88888888888889% closeness to father\n",
      "If they disagree to feeling safe at school, 16.666666666666664% chance of misbehaving there and 54.16666666666667% closeness to father\n",
      "If they strongly disagree to feeling safe at school, 9.999999999999998% chance of misbehaving there and 33.333333333333336% closeness to father\n",
      "\n",
      "If they live with primary care-giver (bio mother), 12.30529595015576% chance of misbehaving at school and 54.98154981549816% closeness to father\n",
      "If they live with bio father, 0.0% chance of misbehaving at school and 33.333333333333336% closeness to father\n",
      "If they live with maternal grandparents, nan% chance of misbehaving at school and nan% closeness to father\n",
      "If they live with paternal grandparents, nan% chance of misbehaving at school and nan% closeness to father\n",
      "If they live with other relatives, nan% chance of misbehaving at school and nan% closeness to father\n",
      "If they live in foster care, nan% chance of misbehaving at school and nan% closeness to father\n",
      "\n",
      "If they have frequent headaches, 12.745098039215685% chance of misbehaving in school and 54.761904761904766% closeness to father\n",
      "If they do not have headaches frequently, 12.0% chance of misbehaving in school and 54.84330484330484% closeness to father\n",
      "\n",
      "If their PCG has had less than HS education, 11.458333333333337% chance of misbehaving at school and 60.83333333333334% closeness to father\n",
      "If their PCG has had a HS education, 9.230769230769232% chance of misbehaving at school and 54.02298850574713% closeness to father\n",
      "If their PCG has had some college education, 15.202702702702698% chance of misbehaving at school and 51.76151761517615% closeness to father\n",
      "If their PCG has had college and/or graduate school education, 8.064516129032262% chance of misbehaving at school and 58.333333333333336% closeness to father\n",
      "\n",
      "If they have dinner together 1 nights per week, 12.5% chance of misbehaving at school and 60.0% closeness to father\n",
      "If they have dinner together 2 nights per week, 16.666666666666664% chance of misbehaving at school and 41.66666666666667% closeness to father\n",
      "If they have dinner together 3 nights per week, 10.9375% chance of misbehaving at school and 59.72222222222222% closeness to father\n",
      "If they have dinner together 4 nights per week, 7.57575757575758% chance of misbehaving at school and 57.47126436781609% closeness to father\n",
      "If they have dinner together 5 nights per week, 14.814814814814813% chance of misbehaving at school and 51.515151515151516% closeness to father\n",
      "If they have dinner together 6 nights per week, 11.111111111111116% chance of misbehaving at school and 65.21739130434783% closeness to father\n",
      "If they have dinner together 7 nights per week, 10.569105691056912% chance of misbehaving at school and 56.156156156156165% closeness to father\n"
     ]
    }
   ],
   "source": [
    "#Determining basic math model\n",
    "df_safe_best=df[df.k6b1d_int==1]\n",
    "df_safe_good=df[df.k6b1d_int==2]\n",
    "df_safe_not=df[df.k6b1d_int==3]\n",
    "df_safe_worst=df[df.k6b1d_int==4]\n",
    "\n",
    "for x, y in [('strongly agree', df_safe_best), ('agree', df_safe_good), ('disagree', df_safe_not), ('strongly disagree', df_safe_worst)]:\n",
    "    chance=50*(y.p6b39_int.mean()-1)\n",
    "    chanceb=(4-y.k6c28_int.mean())*(100/3)\n",
    "    print('If they '+x+' to feeling safe at school, {0}% chance of misbehaving there and {1}% closeness to father'.format(chance, chanceb))\n",
    "    \n",
    "print('')\n",
    "    \n",
    "df_PCG=df[df.cp6yloth_int==1]\n",
    "df_dad=df[df.cp6yloth_int==2]\n",
    "df_mgp=df[df.cp6yloth_int==3]\n",
    "df_pgp=df[df.cp6yloth_int==4]\n",
    "df_rels=df[df.cp6yloth_int==5]\n",
    "df_fost=df[df.cp6yloth_int==7]\n",
    "\n",
    "for x, y in [('with primary care-giver (bio mother)', df_PCG), ('with bio father', df_dad), ('with maternal grandparents', df_mgp), ('with paternal grandparents', df_pgp),\n",
    "             ('with other relatives', df_rels), ('in foster care', df_fost)]:\n",
    "    chance=50*(y.p6b39_int.mean()-1)\n",
    "    chanceb=(4-y.k6c28_int.mean())*(100/3)\n",
    "    print('If they live '+x+', {0}% chance of misbehaving at school and {1}% closeness to father'.format(chance, chanceb))\n",
    "    \n",
    "print('')\n",
    "\n",
    "df_headache=df[df.p6b16_int==1]\n",
    "df_no_headache=df[df.p6b16_int==2]\n",
    "\n",
    "for x, y in [('have frequent headaches', df_headache), ('do not have headaches frequently', df_no_headache)]:\n",
    "    chance=50*(y.p6b39_int.mean()-1)\n",
    "    chanceb=(4-y.k6c28_int.mean())*(100/3)\n",
    "    print('If they '+x+', {0}% chance of misbehaving in school and {1}% closeness to father'.format(chance, chanceb))\n",
    "    \n",
    "print('')\n",
    "\n",
    "for x, y in [('less than HS', df[df.cp6edu_int==1]), ('a HS', df[df.cp6edu_int==2]), ('some college', df[df.cp6edu_int==3]), ('college and/or graduate school', df[df.cp6edu_int==4])]:\n",
    "    chance=50*(y.p6b39_int.mean()-1)\n",
    "    chanceb=(4-y.k6c28_int.mean())*(100/3)\n",
    "    print('If their PCG has had '+x+' education, {0}% chance of misbehaving at school and {1}% closeness to father'.format(chance, chanceb))\n",
    "    \n",
    "print('')\n",
    "\n",
    "list=[(str(x+1), df[df.k6c3_int==x+1]) for x in range(7)]\n",
    "for x, y in list:\n",
    "    chance=50*(y.p6b39_int.mean()-1)\n",
    "    chanceb=(4-y.k6c28_int.mean())*(100/3)\n",
    "    print('If they have dinner together '+x+' nights per week, {0}% chance of misbehaving at school and {1}% closeness to father'.format(chance, chanceb))"
   ]
  },
  {
   "cell_type": "code",
   "execution_count": 32,
   "metadata": {},
   "outputs": [],
   "source": [
    "#above gives summary of chances which are averaged by model\n",
    "#input is set into model as follows:\n",
    "    #(a,b,c,d) where a=how safe they feel at school, with 1 being most and 4 being least. Must be integer.\n",
    "    # b=frequent headaches, where 1=yes and 0=no\n",
    "    # c=education of primary caregiver, either \"less\", \"HS\", \"coll\", or \"grad\" (with explanations being shown in summary above)\n",
    "    # d=number of nights per week when they eat dinner together\n",
    "    \n",
    "def predict(a,b,c,d):\n",
    "    school_a=50*(df[df.k6b1d_int==a].p6b39_int.mean()-1)\n",
    "    dad_a=(4-df[df.k6b1d_int==a].k6c28_int.mean())*(100/3)\n",
    "    if b==0:\n",
    "        b=2\n",
    "    school_b=50*(df[df.p6b16_int==b].p6b39_int.mean()-1)\n",
    "    dad_b=(4-df[df.p6b16_int==b].k6c28_int.mean())*(100/3)\n",
    "    if c=='less':\n",
    "        c=1\n",
    "    elif c=='HS':\n",
    "        c=2\n",
    "    elif c=='coll':\n",
    "        c=3\n",
    "    elif c=='grad':\n",
    "        c=4\n",
    "    school_c=50*(df[df.cp6edu_int==c].p6b39_int.mean()-1)\n",
    "    dad_c=(4-df[df.cp6edu_int==c].k6c28_int.mean())*(100/3)\n",
    "    school_d=50*(df[df.k6c3_int==d].p6b39_int.mean()-1)\n",
    "    dad_d=(4-df[df.k6c3_int==d].k6c28_int.mean())*(100/3)\n",
    "    school=(school_a+school_b+school_c+school_d)/4\n",
    "    dad=(dad_a+dad_b+dad_c+dad_d)/4\n",
    "    print('They have a {0}% chance of misbehaving at school and a {1}% closeness to their father.'.format(round(school,2), round(dad,2)))"
   ]
  },
  {
   "cell_type": "code",
   "execution_count": 34,
   "metadata": {},
   "outputs": [
    {
     "name": "stdout",
     "output_type": "stream",
     "text": [
      "They have a 10.71% chance of misbehaving at school and a 58.67% closeness to their father.\n",
      "They have a 12.01% chance of misbehaving at school and a 55.85% closeness to their father.\n",
      "They have a 11.43% chance of misbehaving at school and a 55.62% closeness to their father.\n"
     ]
    }
   ],
   "source": [
    "predict(1, 0, 'grad', 6)\n",
    "predict(3, 1, 'grad', 7)\n",
    "predict(2,0,'HS',3)"
   ]
  },
  {
   "cell_type": "code",
   "execution_count": 44,
   "metadata": {},
   "outputs": [
    {
     "name": "stdout",
     "output_type": "stream",
     "text": [
      "They have a 10.71% chance of misbehaving at school and a 58.67% closeness to their father.\n",
      "They have a 12.93% chance of misbehaving at school and a 49.21% closeness to their father.\n"
     ]
    }
   ],
   "source": [
    "predict(1, 0, 'grad', 6)\n",
    "predict(4,1,'less',0)"
   ]
  },
  {
   "cell_type": "markdown",
   "metadata": {},
   "source": [
    "On account of the lack of correlations within these factors and the simple method, the results are not particularly exciting. Most predictions are around the same, with a 10-12% chance of misbehaving in school and a little over 50% closeness to the father."
   ]
  }
 ],
 "metadata": {
  "kernelspec": {
   "display_name": "Python 3",
   "language": "python",
   "name": "python3"
  },
  "language_info": {
   "codemirror_mode": {
    "name": "ipython",
    "version": 3
   },
   "file_extension": ".py",
   "mimetype": "text/x-python",
   "name": "python",
   "nbconvert_exporter": "python",
   "pygments_lexer": "ipython3",
   "version": "3.5.2"
  }
 },
 "nbformat": 4,
 "nbformat_minor": 2
}
