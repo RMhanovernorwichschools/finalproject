{
 "cells": [
  {
   "cell_type": "code",
   "execution_count": 1,
   "metadata": {},
   "outputs": [],
   "source": [
    "import pandas as pd\n",
    "import numpy\n",
    "import matplotlib.pyplot as plt\n",
    "df=pd.read_stata(\"https://github.com/RMhanovernorwichschools/finalproject/blob/master/FF_wave6_2019.dta?raw=true\")\n",
    "\n",
    "def corr (x, y):\n",
    "    print(x+' and '+y+' are corr by '+str(df_sub[x+'_int'].corr(df_sub[y+'_int'])))"
   ]
  },
  {
   "cell_type": "code",
   "execution_count": 2,
   "metadata": {},
   "outputs": [],
   "source": [
    "df_sub = df[df.cp6yloth!='-9 Not in wave']\n",
    "df_sub = df[df.ck6yagey!='-9 Not in wave']\n",
    "\n",
    "for x in ['p6citywt_rep1', 'p6citywt_rep2', 'p6citywt_rep3', 'p6citywt_rep4', 'p6citywt_rep5']:\n",
    "    df_sub=df_sub.drop([x], axis=1)"
   ]
  },
  {
   "cell_type": "code",
   "execution_count": 3,
   "metadata": {},
   "outputs": [],
   "source": [
    "for x in list(df_sub.keys()):\n",
    "    if (x[0]+x[1])=='cp':\n",
    "        df_sub=df_sub.drop([x], axis=1)\n",
    "\n",
    "reps=list(df_sub.keys())\n",
    "\n",
    "for x in reps:\n",
    "    mode=df_sub[x].mode()\n",
    "    if type(mode)!=str:\n",
    "        reps.remove(x)\n",
    "    elif len(mode)>1:\n",
    "        if (mode=='-6 Skip').all() or (mode=='-3 Missing').all():\n",
    "            df_sub = df_sub.drop([x], axis=1)\n",
    "    elif (mode=='-6 Skip').bool() or (mode=='-3 Missing').bool():\n",
    "        df_sub = df_sub.drop([x], axis=1)\n",
    "    \n",
    "reps=list(df_sub.keys())\n",
    "reps.remove('idnum')"
   ]
  },
  {
   "cell_type": "code",
   "execution_count": 4,
   "metadata": {},
   "outputs": [
    {
     "name": "stdout",
     "output_type": "stream",
     "text": [
      "k6f69f1\n",
      "k6f71\n",
      "k6f81\n",
      "k6f81a1\n",
      "ch6wt1\n",
      "ch6ht1\n",
      "ch6wst1\n",
      "o6a1\n",
      "o6b1\n",
      "o6c1\n",
      "o6c10a_1\n",
      "o6c10a_91\n",
      "o6c11\n",
      "o6d1_1\n",
      "o6d1_91\n",
      "o6e1\n",
      "o6e11\n",
      "o6f1\n",
      "o6g1\n",
      "o6g7_1\n",
      "p6natwt_rep1\n",
      "p6natwt_rep11\n",
      "p6natwt_rep21\n",
      "p6natwt_rep31\n",
      "p6natwtx_rep1\n",
      "p6natwtx_rep11\n",
      "p6natwtx_rep21\n",
      "p6natwtx_rep31\n",
      "k6citywt_rep1\n",
      "k6natwt_rep1\n",
      "k6natwt_rep11\n",
      "k6natwt_rep21\n",
      "k6natwt_rep31\n",
      "k6natwtx_rep1\n",
      "k6natwtx_rep11\n",
      "k6natwtx_rep21\n",
      "k6natwtx_rep31\n",
      "h6citywt_rep1\n",
      "h6natwt_rep1\n",
      "h6natwtx_rep1\n",
      "Done!\n"
     ]
    }
   ],
   "source": [
    "reps1=reps[:300]\n",
    "reps2=reps[300:600]\n",
    "reps3=reps[600:900]\n",
    "reps3.remove('p6k48')\n",
    "reps4=reps[900:1200]\n",
    "reps5=reps[1200:]\n",
    "\n",
    "for x in reps5:\n",
    "    new=[]\n",
    "    for b in df_sub['idnum']:\n",
    "        num=int(b)-1\n",
    "        a=df_sub[x][num]\n",
    "        if type(a)==numpy.float64 or type(a)==numpy.int64:\n",
    "            new.append(a)\n",
    "        elif a[0]=='-' or a[0]==' ':\n",
    "            new.append(None)\n",
    "        else:\n",
    "            new.append(float(a[0]))\n",
    "    if x[-1]=='1':\n",
    "        print(x)\n",
    "    df_sub[x+'_int']= new\n",
    "    df_sub = df_sub.drop([x], axis=1)\n",
    "print('Done!')"
   ]
  },
  {
   "cell_type": "code",
   "execution_count": 5,
   "metadata": {},
   "outputs": [],
   "source": [
    "cont = True\n",
    "while cont == True:\n",
    "    checking=0\n",
    "    for x in reps5:\n",
    "        mode=df_sub[x+'_int'].mode()\n",
    "        if len(mode)>1:\n",
    "            if (mode==None).any():\n",
    "                df_sub = df_sub.drop([x+'_int'], axis=1)\n",
    "                reps5.remove(x)\n",
    "                checking+=1\n",
    "        elif (mode==None).bool():\n",
    "            df_sub = df_sub.drop([x+'_int'], axis=1)\n",
    "            reps5.remove(x)\n",
    "            checking+=1\n",
    "    if checking==0:\n",
    "        cont=False"
   ]
  },
  {
   "cell_type": "code",
   "execution_count": 6,
   "metadata": {},
   "outputs": [],
   "source": [
    "#for x in reps1:\n",
    "#    for y in reps1:\n",
    "#        if abs(df_sub[x+'_int'].corr(df_sub[y+'_int'], min_periods=75))>0.5 and x[2]!=y[2]:\n",
    "#            print(x+' and '+y+' are corr by '+str(df_sub[x+'_int'].corr(df_sub[y+'_int'])))"
   ]
  },
  {
   "cell_type": "markdown",
   "metadata": {},
   "source": [
    "Interesting finding: more likely to have spoken to teacher about medical issues if issues are impersonal (Not mental)\n",
    "also want to check out g6 to f29"
   ]
  },
  {
   "cell_type": "code",
   "execution_count": 7,
   "metadata": {},
   "outputs": [],
   "source": [
    "savers=[x+'_int' for x in reps5]\n",
    "\n",
    "df_p2=df_sub[['idnum']+savers]\n",
    "df_p2.to_csv('FF_Processed_Data_e.csv')"
   ]
  }
 ],
 "metadata": {
  "kernelspec": {
   "display_name": "Python 3",
   "language": "python",
   "name": "python3"
  },
  "language_info": {
   "codemirror_mode": {
    "name": "ipython",
    "version": 3
   },
   "file_extension": ".py",
   "mimetype": "text/x-python",
   "name": "python",
   "nbconvert_exporter": "python",
   "pygments_lexer": "ipython3",
   "version": "3.5.2"
  }
 },
 "nbformat": 4,
 "nbformat_minor": 2
}
