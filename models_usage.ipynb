{
 "cells": [
  {
   "cell_type": "code",
   "execution_count": 4,
   "metadata": {},
   "outputs": [
    {
     "name": "stdout",
     "output_type": "stream",
     "text": [
      "pair 1...\n",
      "pair 2...\n",
      "pair 3...\n",
      "almost...\n",
      "Done!\n",
      "WARNING:tensorflow:From /usr/local/lib/python3.5/dist-packages/tensorflow/python/ops/math_ops.py:3066: to_int32 (from tensorflow.python.ops.math_ops) is deprecated and will be removed in a future version.\n",
      "Instructions for updating:\n",
      "Use tf.cast instead.\n"
     ]
    }
   ],
   "source": [
    "import pandas as pd\n",
    "import matplotlib.pyplot as plt\n",
    "import numpy as np\n",
    "import tensorflow as tf\n",
    "from tensorflow import keras\n",
    "from tensorflow.keras import layers\n",
    "\n",
    "def corr (x, y):\n",
    "    print(x+' and '+y+' are corr by '+str(df[x+'_int'].corr(df[y+'_int'])))\n",
    "\n",
    "df_1=pd.merge(pd.read_csv(\"FF_Processed_Data_a.csv\"),(pd.read_csv(\"FF_Processed_Data_b.csv\")),on='idnum')\n",
    "print('pair 1...')\n",
    "df_2=pd.merge((pd.read_csv(\"FF_Processed_Data_c.csv\")),(pd.read_csv(\"FF_Processed_Data_d.csv\")),on='idnum')\n",
    "print('pair 2...')\n",
    "df_3=pd.merge(df_1,df_2,on='idnum')\n",
    "print('pair 3...')\n",
    "df_4=pd.merge(df_3,(pd.read_csv(\"FF_Processed_Data_e.csv\")),on='idnum')\n",
    "print('almost...')\n",
    "\n",
    "df=df_4=pd.merge(df_4,(pd.read_csv(\"FF_Processed_Data_addi.csv\")),on='idnum')\n",
    "print('Done!')\n",
    "\n",
    "cf=df[['p6b39_int', 'k6c28_int', 'k6c17_int', 'k6b1d_int', 'k6c3_int', 'p6b16_int', 'cp6edu_int']]\n",
    "cf=cf.dropna()\n",
    "cf.k6b1d_int=(4-cf.k6b1d_int)/3\n",
    "cf.cp6edu_int=(4-cf.cp6edu_int)/3\n",
    "cf.k6c3_int=cf.k6c3_int/7\n",
    "cf.p6b16_int=2-cf.p6b16_int\n",
    "\n",
    "cf.p6b39_int=2-cf.p6b39_int\n",
    "cf.k6c17_int=(4-cf.k6c17_int)/3\n",
    "cf.k6c28_int=(4-cf.k6c28_int)/3\n",
    "\n",
    "def math_predict(a,b,c,d):\n",
    "# a=how safe they feel at school, with 1 being most and 4 being least. Must be integer.\n",
    "# b=frequent headaches, where 1=yes and 0=no\n",
    "# c=education of primary caregiver, either \"less\", \"HS\", \"coll\", or \"grad\" (with explanations being shown in summary above)\n",
    "# d=number of nights per week when they eat dinner together\n",
    "    school_a=50*(df[df.k6b1d_int==a].p6b39_int.mean()-1)\n",
    "    dad_a=(4-df[df.k6b1d_int==a].k6c28_int.mean())*(100/3)\n",
    "    if b==0:\n",
    "        b=2\n",
    "    school_b=50*(df[df.p6b16_int==b].p6b39_int.mean()-1)\n",
    "    dad_b=(4-df[df.p6b16_int==b].k6c28_int.mean())*(100/3)\n",
    "    if c=='less':\n",
    "        c=1\n",
    "    elif c=='HS':\n",
    "        c=2\n",
    "    elif c=='coll':\n",
    "        c=3\n",
    "    elif c=='grad':\n",
    "        c=4\n",
    "    school_c=50*(df[df.cp6edu_int==c].p6b39_int.mean()-1)\n",
    "    dad_c=(4-df[df.cp6edu_int==c].k6c28_int.mean())*(100/3)\n",
    "    school_d=50*(df[df.k6c3_int==d].p6b39_int.mean()-1)\n",
    "    dad_d=(4-df[df.k6c3_int==d].k6c28_int.mean())*(100/3)\n",
    "    school=(school_a+school_b+school_c+school_d)/4\n",
    "    dad=(dad_a+dad_b+dad_c+dad_d)/4\n",
    "    print('They have a {0}% chance of misbehaving at school and a {1}% closeness to their father.'.format(round(school,2), round(dad,2)))\n",
    "    \n",
    "model = keras.Sequential([\n",
    "    layers.Dense(24, activation=tf.nn.relu, input_shape=[len(cf.keys())]),\n",
    "    layers.Dense(24, activation=tf.nn.relu),\n",
    "    layers.Dense(3, activation=tf.nn.sigmoid)\n",
    "  ])\n",
    "\n",
    "optimizer = tf.keras.optimizers.Adam()\n",
    "\n",
    "model.compile(loss='mean_squared_error',\n",
    "            optimizer=optimizer,\n",
    "            metrics=['mean_absolute_error', 'mean_squared_error'])\n",
    "\n",
    "model = keras.models.load_model('basic_tf_model.h5')\n",
    "\n",
    "def tf_predict(a,b,c,d):\n",
    "# a=feeling of safety at school (0 to 1)\n",
    "# b=probability of dinner with family (0 to 1) also seen as nights per week divided by 7\n",
    "# c=headaches frequently 0 no and 1 yes\n",
    "# d=level of parent's education from less than HS (0) to college/graduate (1)\n",
    "    pred=np.reshape([a,b,c,d], (1,4))\n",
    "    ans=(model.predict(pred))[0]\n",
    "    school=100*(1-ans[0])\n",
    "    school=round(school,3)\n",
    "    dad=round(ans[1],3)\n",
    "    mom=round(ans[2],3)\n",
    "    print(str(school)+'% chance of misbehaving in school, '+str(dad)+' of 1 closeness to father, and '+str(mom)+' of 1 closeness to mother.')"
   ]
  },
  {
   "cell_type": "markdown",
   "metadata": {},
   "source": [
    "**Math Model:**\n",
    "Average scores are 0.12116564417177911 for school, 0.5475330926594464 for dad.\n",
    "\n",
    "**TensorFlow Model:**\n",
    "Average scores are 0.7563469107334431 for school, 0.5643672310389005 for dad, and 0.8249631222624045 for mom."
   ]
  },
  {
   "cell_type": "code",
   "execution_count": 5,
   "metadata": {},
   "outputs": [
    {
     "name": "stdout",
     "output_type": "stream",
     "text": [
      "They have a 11.14% chance of misbehaving at school and a 53.56% closeness to their father.\n",
      "12.906% chance of misbehaving in school, 0.23 of 1 closeness to father, and 0.822 of 1 closeness to mother.\n"
     ]
    }
   ],
   "source": [
    "math_predict(4,0,'less',6)\n",
    "tf_predict(0,0.8,0.02,0)"
   ]
  }
 ],
 "metadata": {
  "kernelspec": {
   "display_name": "Python 3",
   "language": "python",
   "name": "python3"
  },
  "language_info": {
   "codemirror_mode": {
    "name": "ipython",
    "version": 3
   },
   "file_extension": ".py",
   "mimetype": "text/x-python",
   "name": "python",
   "nbconvert_exporter": "python",
   "pygments_lexer": "ipython3",
   "version": "3.5.2"
  }
 },
 "nbformat": 4,
 "nbformat_minor": 2
}
